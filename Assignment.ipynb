{
 "cells": [
  {
   "cell_type": "code",
   "execution_count": 1,
   "id": "5c9dd25f",
   "metadata": {},
   "outputs": [],
   "source": [
    "import numpy as n"
   ]
  },
  {
   "cell_type": "code",
   "execution_count": 171,
   "id": "5dac1259",
   "metadata": {},
   "outputs": [
    {
     "name": "stdout",
     "output_type": "stream",
     "text": [
      "1.20.3\n"
     ]
    }
   ],
   "source": [
    "#1\n",
    "print(n.__version__)\n",
    "n.show_config()"
   ]
  },
  {
   "cell_type": "code",
   "execution_count": 174,
   "id": "24cdae49",
   "metadata": {},
   "outputs": [],
   "source": [
    "#2\n",
    "n.info(n.add)"
   ]
  },
  {
   "cell_type": "code",
   "execution_count": 56,
   "id": "dfd0abb3",
   "metadata": {},
   "outputs": [
    {
     "name": "stdout",
     "output_type": "stream",
     "text": [
      "[2 2 1 0 4 2 2 2 1 3 4 4 1 1 4]\n"
     ]
    },
    {
     "data": {
      "text/plain": [
       "False"
      ]
     },
     "execution_count": 56,
     "metadata": {},
     "output_type": "execute_result"
    }
   ],
   "source": [
    "#3\n",
    "a = n.random.randint(0,5, 15)\n",
    "print(a)\n",
    "n.all(a)"
   ]
  },
  {
   "cell_type": "code",
   "execution_count": 44,
   "id": "cdce63e1",
   "metadata": {
    "scrolled": true
   },
   "outputs": [
    {
     "name": "stdout",
     "output_type": "stream",
     "text": [
      "[0 0 0 0 0]\n"
     ]
    },
    {
     "data": {
      "text/plain": [
       "False"
      ]
     },
     "execution_count": 44,
     "metadata": {},
     "output_type": "execute_result"
    }
   ],
   "source": [
    "#4\n",
    "a = n.random.randint(0,1,5)\n",
    "print(a)\n",
    "n.any(a)"
   ]
  },
  {
   "cell_type": "code",
   "execution_count": 59,
   "id": "ef04715b",
   "metadata": {},
   "outputs": [
    {
     "data": {
      "text/plain": [
       "array([ True,  True, False])"
      ]
     },
     "execution_count": 59,
     "metadata": {},
     "output_type": "execute_result"
    }
   ],
   "source": [
    "#5\n",
    "a = [1,2,n.inf]\n",
    "n.isfinite(a)"
   ]
  },
  {
   "cell_type": "code",
   "execution_count": 65,
   "id": "114bc301",
   "metadata": {},
   "outputs": [
    {
     "name": "stdout",
     "output_type": "stream",
     "text": [
      "[False False False  True]\n"
     ]
    },
    {
     "data": {
      "text/plain": [
       "array([False, False,  True, False])"
      ]
     },
     "execution_count": 65,
     "metadata": {},
     "output_type": "execute_result"
    }
   ],
   "source": [
    "#6\n",
    "a = [1,2,-n.inf, n.inf]\n",
    "print(n.isposinf(a))\n",
    "n.isneginf(a)"
   ]
  },
  {
   "cell_type": "code",
   "execution_count": 62,
   "id": "bad3b7c7",
   "metadata": {},
   "outputs": [
    {
     "data": {
      "text/plain": [
       "array([ True, False, False])"
      ]
     },
     "execution_count": 62,
     "metadata": {},
     "output_type": "execute_result"
    }
   ],
   "source": [
    "#7\n",
    "a = [n.nan,1,2]\n",
    "n.isnan(a)"
   ]
  },
  {
   "cell_type": "code",
   "execution_count": 63,
   "id": "6416af54",
   "metadata": {},
   "outputs": [
    {
     "name": "stdout",
     "output_type": "stream",
     "text": [
      "[False False False]\n",
      "[ True  True  True]\n",
      "False\n"
     ]
    }
   ],
   "source": [
    "#8\n",
    "a = [n.nan,1,2]\n",
    "print(n.iscomplex(a))\n",
    "print(n.isreal(a))\n",
    "print(n.isscalar(a))"
   ]
  },
  {
   "cell_type": "code",
   "execution_count": 70,
   "id": "a4597af8",
   "metadata": {},
   "outputs": [
    {
     "name": "stdout",
     "output_type": "stream",
     "text": [
      "Greater Than:\n",
      "[ True False  True  True  True]\n",
      "Less Than:\n",
      "[False  True False False False]\n",
      "Less Than or Equal to:\n",
      "[False  True False False False]\n"
     ]
    }
   ],
   "source": [
    "#10\n",
    "a = n.random.randint(0, 15,5)\n",
    "b = n.random.randint(0, 15,5)\n",
    "print(\"Greater Than:\")\n",
    "print(a>b)\n",
    "print(\"Less Than:\")\n",
    "print(a<b)\n",
    "print(\"Less Than or Equal to:\")\n",
    "print(a<=b)"
   ]
  },
  {
   "cell_type": "code",
   "execution_count": 79,
   "id": "60b334bf",
   "metadata": {},
   "outputs": [
    {
     "name": "stdout",
     "output_type": "stream",
     "text": [
      "Equal to:\n",
      "[ True False]\n"
     ]
    },
    {
     "data": {
      "text/plain": [
       "array([ True,  True])"
      ]
     },
     "execution_count": 79,
     "metadata": {},
     "output_type": "execute_result"
    }
   ],
   "source": [
    "#11 incomplete\n",
    "a = n.array([10, 10.0001])\n",
    "b = n.array([10, 10.00000000001])\n",
    "print(\"Equal to:\")n.array([10, 10.0001])\n",
    "print(a==b)\n",
    "n.isclose(a,b)\n"
   ]
  },
  {
   "cell_type": "code",
   "execution_count": 92,
   "id": "5f3f37a6",
   "metadata": {},
   "outputs": [
    {
     "name": "stdout",
     "output_type": "stream",
     "text": [
      "16 bytes\n"
     ]
    }
   ],
   "source": [
    "#12\n",
    "a= [1, 7, 13, 105]\n",
    "a = n.array(a)\n",
    "print('{} bytes'.format(a.size*a.itemsize))\n"
   ]
  },
  {
   "cell_type": "code",
   "execution_count": 46,
   "id": "2c9baa76",
   "metadata": {},
   "outputs": [
    {
     "data": {
      "text/plain": [
       "array([5, 5, 5, 5, 5, 5, 5, 5, 5, 5])"
      ]
     },
     "execution_count": 46,
     "metadata": {},
     "output_type": "execute_result"
    }
   ],
   "source": [
    "#13\n",
    "n.zeros(10)\n",
    "n.ones(10)\n",
    "n.full(10,5)"
   ]
  },
  {
   "cell_type": "code",
   "execution_count": 48,
   "id": "5c6d19e9",
   "metadata": {},
   "outputs": [
    {
     "data": {
      "text/plain": [
       "array([30, 31, 32, 33, 34, 35, 36, 37, 38, 39, 40, 41, 42, 43, 44, 45, 46,\n",
       "       47, 48, 49, 50, 51, 52, 53, 54, 55, 56, 57, 58, 59, 60, 61, 62, 63,\n",
       "       64, 65, 66, 67, 68, 69, 70])"
      ]
     },
     "execution_count": 48,
     "metadata": {},
     "output_type": "execute_result"
    }
   ],
   "source": [
    "#14\n",
    "n.arange(30,71)"
   ]
  },
  {
   "cell_type": "code",
   "execution_count": 49,
   "id": "83de9d47",
   "metadata": {},
   "outputs": [
    {
     "data": {
      "text/plain": [
       "array([30, 32, 34, 36, 38, 40, 42, 44, 46, 48, 50, 52, 54, 56, 58, 60, 62,\n",
       "       64, 66, 68, 70])"
      ]
     },
     "execution_count": 49,
     "metadata": {},
     "output_type": "execute_result"
    }
   ],
   "source": [
    "#15\n",
    "n.arange(30,71,2)"
   ]
  },
  {
   "cell_type": "code",
   "execution_count": 25,
   "id": "57e370fe",
   "metadata": {},
   "outputs": [
    {
     "data": {
      "text/plain": [
       "array([[1., 0., 0.],\n",
       "       [0., 1., 0.],\n",
       "       [0., 0., 1.]])"
      ]
     },
     "execution_count": 25,
     "metadata": {},
     "output_type": "execute_result"
    }
   ],
   "source": [
    "#16\n",
    "n.eye(3)"
   ]
  },
  {
   "cell_type": "code",
   "execution_count": 27,
   "id": "4614ab94",
   "metadata": {},
   "outputs": [
    {
     "data": {
      "text/plain": [
       "array([0.73813072])"
      ]
     },
     "execution_count": 27,
     "metadata": {},
     "output_type": "execute_result"
    }
   ],
   "source": [
    "#17\n",
    "n.random.rand(1)"
   ]
  },
  {
   "cell_type": "code",
   "execution_count": 30,
   "id": "db548480",
   "metadata": {},
   "outputs": [
    {
     "data": {
      "text/plain": [
       "array([-1.30111884, -0.58498933,  1.22329833,  1.12078305, -0.9754812 ,\n",
       "        0.05270163,  0.55422376, -0.72553878,  2.10183012,  0.79909935,\n",
       "        0.08514731,  1.71816736,  1.75765127,  2.16991522, -1.60218682])"
      ]
     },
     "execution_count": 30,
     "metadata": {},
     "output_type": "execute_result"
    }
   ],
   "source": [
    "#18\n",
    "n.random.randn(15)"
   ]
  },
  {
   "cell_type": "code",
   "execution_count": 45,
   "id": "eefee5ec",
   "metadata": {},
   "outputs": [
    {
     "data": {
      "text/plain": [
       "array([16, 17, 18, 19, 20, 21, 22, 23, 24, 25, 26, 27, 28, 29, 30, 31, 32,\n",
       "       33, 34, 35, 36, 37, 38, 39, 40, 41, 42, 43, 44, 45, 46, 47, 48, 49,\n",
       "       50, 51, 52, 53, 54])"
      ]
     },
     "execution_count": 45,
     "metadata": {},
     "output_type": "execute_result"
    }
   ],
   "source": [
    "#19\n",
    "v = n.arange(15,56)\n",
    "v[1:-1]"
   ]
  },
  {
   "cell_type": "code",
   "execution_count": 69,
   "id": "2b5e0c01",
   "metadata": {},
   "outputs": [
    {
     "name": "stdout",
     "output_type": "stream",
     "text": [
      "0 1 2 3 4 5 6 7 8 9 10 11 "
     ]
    }
   ],
   "source": [
    "#20\n",
    "v = n.arange(0,12).reshape(3,4)\n",
    "for i in n.nditer(v):\n",
    "    print(i, end=\" \")   "
   ]
  },
  {
   "cell_type": "code",
   "execution_count": 44,
   "id": "d1af9275",
   "metadata": {},
   "outputs": [
    {
     "data": {
      "text/plain": [
       "array([ 5., 10., 15., 20., 25., 30., 35., 40., 45., 50.])"
      ]
     },
     "execution_count": 44,
     "metadata": {},
     "output_type": "execute_result"
    }
   ],
   "source": [
    "#21\n",
    "v= n.linspace(5,50,10)\n",
    "v"
   ]
  },
  {
   "cell_type": "code",
   "execution_count": 53,
   "id": "e88d0252",
   "metadata": {},
   "outputs": [
    {
     "data": {
      "text/plain": [
       "array([  0,   1,   2,   3,   4,   5,   6,   7,   8,  -9, -10, -11, -12,\n",
       "       -13, -14,  15,  16,  17,  18,  19,  20])"
      ]
     },
     "execution_count": 53,
     "metadata": {},
     "output_type": "execute_result"
    }
   ],
   "source": [
    "#22\n",
    "b = n.arange(0,21)\n",
    "b[9:15] = b[9:15]*-1\n",
    "b"
   ]
  },
  {
   "cell_type": "code",
   "execution_count": 91,
   "id": "5c6110c7",
   "metadata": {},
   "outputs": [
    {
     "data": {
      "text/plain": [
       "array([0, 7, 3, 2, 8])"
      ]
     },
     "execution_count": 91,
     "metadata": {},
     "output_type": "execute_result"
    }
   ],
   "source": [
    "#23\n",
    "a = n.random.randint(0,10, 5)\n",
    "a"
   ]
  },
  {
   "cell_type": "code",
   "execution_count": 112,
   "id": "e7b255db",
   "metadata": {},
   "outputs": [
    {
     "data": {
      "text/plain": [
       "array([ 4, 54,  3,  0,  6])"
      ]
     },
     "execution_count": 112,
     "metadata": {},
     "output_type": "execute_result"
    }
   ],
   "source": [
    "#24\n",
    "arr = n.random.randint(0, 10, 5)\n",
    "arr_2 = n.random.randint(0,10, 5)\n",
    "arr*arr_2"
   ]
  },
  {
   "cell_type": "code",
   "execution_count": 73,
   "id": "cb56188b",
   "metadata": {},
   "outputs": [
    {
     "data": {
      "text/plain": [
       "array([[10, 11, 12, 13],\n",
       "       [14, 15, 16, 17],\n",
       "       [18, 19, 20, 21]])"
      ]
     },
     "execution_count": 73,
     "metadata": {},
     "output_type": "execute_result"
    }
   ],
   "source": [
    "#25\n",
    "arr = n.arange(10,22).reshape(3,4)\n",
    "arr"
   ]
  },
  {
   "cell_type": "code",
   "execution_count": 121,
   "id": "d8214579",
   "metadata": {},
   "outputs": [
    {
     "data": {
      "text/plain": [
       "(2, 23)"
      ]
     },
     "execution_count": 121,
     "metadata": {},
     "output_type": "execute_result"
    }
   ],
   "source": [
    "#26\n",
    "arr= n.arange(10,56).reshape(2, 23)\n",
    "rows,columns= arr.shape\n",
    "\n"
   ]
  },
  {
   "cell_type": "code",
   "execution_count": 78,
   "id": "f0542277",
   "metadata": {},
   "outputs": [
    {
     "data": {
      "text/plain": [
       "array([[1., 0., 0.],\n",
       "       [0., 1., 0.],\n",
       "       [0., 0., 1.]])"
      ]
     },
     "execution_count": 78,
     "metadata": {},
     "output_type": "execute_result"
    }
   ],
   "source": [
    "#27\n",
    "n.eye(3)"
   ]
  },
  {
   "cell_type": "code",
   "execution_count": 129,
   "id": "300be867",
   "metadata": {},
   "outputs": [
    {
     "data": {
      "text/plain": [
       "array([[1., 1., 1., 1., 1., 1., 1., 1., 1., 1.],\n",
       "       [1., 0., 0., 0., 0., 0., 0., 0., 0., 1.],\n",
       "       [1., 0., 0., 0., 0., 0., 0., 0., 0., 1.],\n",
       "       [1., 0., 0., 0., 0., 0., 0., 0., 0., 1.],\n",
       "       [1., 0., 0., 0., 0., 0., 0., 0., 0., 1.],\n",
       "       [1., 0., 0., 0., 0., 0., 0., 0., 0., 1.],\n",
       "       [1., 0., 0., 0., 0., 0., 0., 0., 0., 1.],\n",
       "       [1., 0., 0., 0., 0., 0., 0., 0., 0., 1.],\n",
       "       [1., 0., 0., 0., 0., 0., 0., 0., 0., 1.],\n",
       "       [1., 1., 1., 1., 1., 1., 1., 1., 1., 1.]])"
      ]
     },
     "execution_count": 129,
     "metadata": {},
     "output_type": "execute_result"
    }
   ],
   "source": [
    "#28\n",
    "a = n.zeros((10, 10))\n",
    "for i in range(10):\n",
    "    a[i, 0] = 1\n",
    "    a[i, 9] = 1\n",
    "a[0] = 1\n",
    "a[9] = 1\n",
    "a"
   ]
  },
  {
   "cell_type": "code",
   "execution_count": 87,
   "id": "c4a5ed7b",
   "metadata": {},
   "outputs": [
    {
     "data": {
      "text/plain": [
       "array([[1., 0., 0., 0., 0.],\n",
       "       [0., 2., 0., 0., 0.],\n",
       "       [0., 0., 3., 0., 0.],\n",
       "       [0., 0., 0., 4., 0.],\n",
       "       [0., 0., 0., 0., 5.]])"
      ]
     },
     "execution_count": 87,
     "metadata": {},
     "output_type": "execute_result"
    }
   ],
   "source": [
    "#29\n",
    "a = n.zeros((5,5))\n",
    "num = 0\n",
    "for i in range(5):\n",
    "    num = num+1\n",
    "    a[i, i] = num\n",
    "a"
   ]
  },
  {
   "cell_type": "code",
   "execution_count": 113,
   "id": "ee6930b0",
   "metadata": {},
   "outputs": [
    {
     "data": {
      "text/plain": [
       "array([[0., 1., 0., 1.],\n",
       "       [1., 0., 1., 0.],\n",
       "       [0., 1., 0., 1.],\n",
       "       [1., 0., 1., 0.]])"
      ]
     },
     "execution_count": 113,
     "metadata": {},
     "output_type": "execute_result"
    }
   ],
   "source": [
    "#30\n",
    "a = n.ones((4,4))\n",
    "for i in range(4):\n",
    "    a[i, i] = 0\n",
    "    if i>=2:\n",
    "        a[i,i-2] = 0   \n",
    "    else:\n",
    "        a[i,i+2] = 0 \n",
    "a"
   ]
  },
  {
   "cell_type": "code",
   "execution_count": 115,
   "id": "d16dcee7",
   "metadata": {},
   "outputs": [
    {
     "data": {
      "text/plain": [
       "array([[[1, 1, 7],\n",
       "        [9, 9, 3],\n",
       "        [0, 5, 1]],\n",
       "\n",
       "       [[4, 6, 8],\n",
       "        [9, 4, 0],\n",
       "        [0, 0, 8]],\n",
       "\n",
       "       [[8, 5, 5],\n",
       "        [6, 9, 7],\n",
       "        [1, 9, 6]]])"
      ]
     },
     "execution_count": 115,
     "metadata": {},
     "output_type": "execute_result"
    }
   ],
   "source": [
    "#31\n",
    "a = n.random.randint(0, 10,27).reshape(3,3,3)\n",
    "a"
   ]
  },
  {
   "cell_type": "code",
   "execution_count": 123,
   "id": "3dcc4b41",
   "metadata": {},
   "outputs": [
    {
     "name": "stdout",
     "output_type": "stream",
     "text": [
      "[20 23 31  8 25]\n",
      "[23 22 15 22 25]\n",
      "107\n"
     ]
    }
   ],
   "source": [
    "#32\n",
    "a = n.random.randint(0,10,25).reshape(5,5)\n",
    "print(a.sum(axis= 0))\n",
    "print(a.sum(axis=1))\n",
    "print(a.sum())"
   ]
  },
  {
   "cell_type": "code",
   "execution_count": 132,
   "id": "cd447cf1",
   "metadata": {},
   "outputs": [
    {
     "name": "stdout",
     "output_type": "stream",
     "text": [
      "[5 7 1] [2 7 9]\n",
      "4410\n"
     ]
    },
    {
     "data": {
      "text/plain": [
       "35"
      ]
     },
     "execution_count": 132,
     "metadata": {},
     "output_type": "execute_result"
    }
   ],
   "source": [
    "#33\n",
    "a = n.random.randint(1, 10, 3)\n",
    "b = n.random.randint(1, 10, 3)\n",
    "c = [a,b]\n",
    "total = 1\n",
    "for i in c:\n",
    "    for num in i:\n",
    "        total *= num\n",
    "print(a,b)\n",
    "print(total)\n",
    "a.prod()"
   ]
  },
  {
   "cell_type": "code",
   "execution_count": 16,
   "id": "8bfe6331",
   "metadata": {},
   "outputs": [
    {
     "name": "stdout",
     "output_type": "stream",
     "text": [
      "[[13  0 13 11 14]\n",
      " [ 5 10 14  4  7]\n",
      " [13  6  9  7  5]\n",
      " [11  2 14  7  2]\n",
      " [ 1 10  9 12  7]]\n",
      "\n",
      "\n",
      "[ 9 10  8  9  6]\n",
      "\n",
      "\n",
      "New Matrix:\n",
      "[[22 10 21 20 20]\n",
      " [14 20 22 13 13]\n",
      " [22 16 17 16 11]\n",
      " [20 12 22 16  8]\n",
      " [10 20 17 21 13]]\n"
     ]
    }
   ],
   "source": [
    "#34\n",
    "a = n.random.randint(0,15, (5,5))\n",
    "print(a)\n",
    "print(\"\\n\")\n",
    "b = n.random.randint(0,15, 5)\n",
    "print(b)\n",
    "print(\"\\n\")\n",
    "a += b\n",
    "print(\"New Matrix:\")\n",
    "print(a)"
   ]
  },
  {
   "cell_type": "code",
   "execution_count": 106,
   "id": "e384b3fd",
   "metadata": {},
   "outputs": [
    {
     "name": "stdout",
     "output_type": "stream",
     "text": [
      "[2 3 4 5 6 7 8 9]\n"
     ]
    },
    {
     "data": {
      "text/plain": [
       "array([12, 13, 14, 15, 16, 17, 18, 19])"
      ]
     },
     "execution_count": 106,
     "metadata": {},
     "output_type": "execute_result"
    }
   ],
   "source": [
    "#36\n",
    "a = n.arange(2,10)\n",
    "b = n.arange(12,20)\n",
    "n.savez_compressed(\"AYO\",x=a, b=b)\n",
    "with n.load(\"AYO.npz\") as Data:\n",
    "    x1 = Data[\"x\"]\n",
    "    x2 = Data[\"b\"]\n",
    "print(x1)\n",
    "x2"
   ]
  },
  {
   "cell_type": "code",
   "execution_count": 109,
   "id": "58e9ade1",
   "metadata": {},
   "outputs": [
    {
     "data": {
      "text/plain": [
       "array([2., 3., 4., 5., 6., 7., 8., 9.])"
      ]
     },
     "execution_count": 109,
     "metadata": {},
     "output_type": "execute_result"
    }
   ],
   "source": [
    "#37\n",
    "a = n.arange(2,10)\n",
    "n.savetxt(\"Ayo.txt\",a)\n",
    "n.loadtxt(\"Ayo.txt\")"
   ]
  },
  {
   "cell_type": "code",
   "execution_count": 111,
   "id": "94b83aa1",
   "metadata": {},
   "outputs": [
    {
     "data": {
      "text/plain": [
       "array([2, 3, 4, 5, 6, 7, 8, 9], dtype=int8)"
      ]
     },
     "execution_count": 111,
     "metadata": {},
     "output_type": "execute_result"
    }
   ],
   "source": [
    "#38\n",
    "a = n.arange(2,10)\n",
    "n.byte(a)"
   ]
  },
  {
   "cell_type": "code",
   "execution_count": 114,
   "id": "0086c7e2",
   "metadata": {},
   "outputs": [
    {
     "data": {
      "text/plain": [
       "True"
      ]
     },
     "execution_count": 114,
     "metadata": {},
     "output_type": "execute_result"
    }
   ],
   "source": [
    "#39\n",
    "a = [1,2,3,4,5,6,7,8,9,10]\n",
    "b = n.array(a)\n",
    "c = list(b)\n",
    "n.allclose(a,c)"
   ]
  },
  {
   "cell_type": "code",
   "execution_count": 122,
   "id": "1c222b2e",
   "metadata": {},
   "outputs": [
    {
     "data": {
      "text/plain": [
       "numpy.ndarray"
      ]
     },
     "execution_count": 122,
     "metadata": {},
     "output_type": "execute_result"
    }
   ],
   "source": [
    "#40\n",
    "type(b)"
   ]
  },
  {
   "cell_type": "code",
   "execution_count": 136,
   "id": "b2331574",
   "metadata": {},
   "outputs": [
    {
     "name": "stdout",
     "output_type": "stream",
     "text": [
      "[[0 2 3 0]\n",
      " [1 2 4 2]\n",
      " [4 4 2 4]\n",
      " [1 1 0 2]]\n"
     ]
    },
    {
     "ename": "ValueError",
     "evalue": "cannot convert float NaN to integer",
     "output_type": "error",
     "traceback": [
      "\u001b[1;31m---------------------------------------------------------------------------\u001b[0m",
      "\u001b[1;31mValueError\u001b[0m                                Traceback (most recent call last)",
      "\u001b[1;32m~\\AppData\\Local\\Temp/ipykernel_10192/460534817.py\u001b[0m in \u001b[0;36m<module>\u001b[1;34m\u001b[0m\n\u001b[0;32m      7\u001b[0m     \u001b[1;32mfor\u001b[0m \u001b[0mj\u001b[0m \u001b[1;32min\u001b[0m \u001b[0mrange\u001b[0m\u001b[1;33m(\u001b[0m\u001b[1;36m4\u001b[0m\u001b[1;33m)\u001b[0m\u001b[1;33m:\u001b[0m\u001b[1;33m\u001b[0m\u001b[1;33m\u001b[0m\u001b[0m\n\u001b[0;32m      8\u001b[0m         \u001b[1;32mif\u001b[0m \u001b[0mb\u001b[0m\u001b[1;33m[\u001b[0m\u001b[0mi\u001b[0m\u001b[1;33m,\u001b[0m\u001b[0mj\u001b[0m\u001b[1;33m]\u001b[0m \u001b[1;33m==\u001b[0m \u001b[1;36m0\u001b[0m\u001b[1;33m:\u001b[0m\u001b[1;33m\u001b[0m\u001b[1;33m\u001b[0m\u001b[0m\n\u001b[1;32m----> 9\u001b[1;33m             \u001b[0mb\u001b[0m\u001b[1;33m[\u001b[0m\u001b[0mi\u001b[0m\u001b[1;33m,\u001b[0m\u001b[0mj\u001b[0m\u001b[1;33m+\u001b[0m\u001b[1;36m1\u001b[0m\u001b[1;33m]\u001b[0m \u001b[1;33m=\u001b[0m \u001b[0mn\u001b[0m\u001b[1;33m.\u001b[0m\u001b[0mnan\u001b[0m\u001b[1;33m\u001b[0m\u001b[1;33m\u001b[0m\u001b[0m\n\u001b[0m\u001b[0;32m     10\u001b[0m         \u001b[0mnum\u001b[0m \u001b[1;33m+=\u001b[0m \u001b[0ma\u001b[0m\u001b[1;33m[\u001b[0m\u001b[0mi\u001b[0m\u001b[1;33m,\u001b[0m\u001b[0mj\u001b[0m\u001b[1;33m]\u001b[0m\u001b[1;33m\u001b[0m\u001b[1;33m\u001b[0m\u001b[0m\n\u001b[0;32m     11\u001b[0m \u001b[0mnum\u001b[0m\u001b[1;33m\u001b[0m\u001b[1;33m\u001b[0m\u001b[0m\n",
      "\u001b[1;31mValueError\u001b[0m: cannot convert float NaN to integer"
     ]
    }
   ],
   "source": [
    "#41\n",
    "a = n.random.randint(0,5,16).reshape(4,4)\n",
    "b = a.copy()\n",
    "print(a)\n",
    "num = 0\n",
    "for i in range(4):\n",
    "    for j in range(4):\n",
    "        if b[i,j] == 0:\n",
    "            b[i,j+1] = \n",
    "        num += a[i,j]\n",
    "num"
   ]
  },
  {
   "cell_type": "code",
   "execution_count": 29,
   "id": "ec0a32f4",
   "metadata": {},
   "outputs": [
    {
     "data": {
      "text/plain": [
       "array([[-1.06742727,  0.45141417, -2.30270902,  0.60432859, -1.20019878],\n",
       "       [-0.09956563,  0.30015642,  1.0601522 ,  1.02992714,  0.16887276],\n",
       "       [ 0.85636644, -0.8532558 ,  0.89180244, -0.88091506, -0.5709967 ],\n",
       "       [-0.62590911, -1.47983353, -0.3237723 , -0.50746911, -0.62275749],\n",
       "       [-2.5060797 , -2.15035559,  0.94401679, -0.55647255,  0.37831621],\n",
       "       [-0.32813493,  0.8020947 , -0.12845969,  0.81042078, -0.43526915],\n",
       "       [ 0.52637337, -0.11904312, -0.22937027,  1.50655379, -0.48370051],\n",
       "       [ 0.46579173,  0.2843133 ,  0.03409427,  0.94621277,  1.24695397]])"
      ]
     },
     "execution_count": 29,
     "metadata": {},
     "output_type": "execute_result"
    }
   ],
   "source": [
    "#48\n",
    "a = n.random.randn(40).reshape(8,5)\n",
    "a"
   ]
  },
  {
   "cell_type": "code",
   "execution_count": 70,
   "id": "80298313",
   "metadata": {},
   "outputs": [
    {
     "name": "stdout",
     "output_type": "stream",
     "text": [
      "[0.18094585 0.10291993 0.22289214 0.21049066 0.93420784]\n",
      "[[17]\n",
      " [ 0]]\n"
     ]
    },
    {
     "data": {
      "text/plain": [
       "array([0.18094585, 0.10291993, 0.22289214, 0.21049066, 0.93420784])"
      ]
     },
     "execution_count": 70,
     "metadata": {},
     "output_type": "execute_result"
    }
   ],
   "source": [
    "a = n.random.rand(5)\n",
    "print(a, end=\"\\n\" )\n",
    "print(n.random.choice(25, (2,1)))\n",
    "a"
   ]
  },
  {
   "cell_type": "code",
   "execution_count": 83,
   "id": "2e1efb32",
   "metadata": {},
   "outputs": [
    {
     "name": "stdout",
     "output_type": "stream",
     "text": [
      "[[29 49  6 21]\n",
      " [47 53 52 18]\n",
      " [20 55 15  4]\n",
      " [31 18 21 28]]\n"
     ]
    },
    {
     "data": {
      "text/plain": [
       "array([[31, 18, 21, 28],\n",
       "       [47, 53, 52, 18],\n",
       "       [20, 55, 15,  4],\n",
       "       [29, 49,  6, 21]])"
      ]
     },
     "execution_count": 83,
     "metadata": {},
     "output_type": "execute_result"
    }
   ],
   "source": [
    "#50\n",
    "a = n.random.randint(0,56,(4,4))\n",
    "print(a)\n",
    "b = a.copy()\n",
    "b[0] = a[-1]\n",
    "b[-1] = a[0]\n",
    "b"
   ]
  },
  {
   "cell_type": "code",
   "execution_count": 98,
   "id": "0013f904",
   "metadata": {},
   "outputs": [
    {
     "data": {
      "text/plain": [
       "array([[0, 0, 0, 0, 0, 0],\n",
       "       [0, 0, 0, 0, 0, 0],\n",
       "       [0, 0, 0, 0, 0, 0],\n",
       "       [0, 0, 0, 0, 0, 0],\n",
       "       [0, 0, 0, 0, 0, 0]])"
      ]
     },
     "execution_count": 98,
     "metadata": {},
     "output_type": "execute_result"
    }
   ],
   "source": [
    "#51\n",
    "a = n.arange(1,31).reshape(5,6)\n",
    "a.fill(0)\n",
    "a"
   ]
  },
  {
   "cell_type": "code",
   "execution_count": 113,
   "id": "243dd446",
   "metadata": {},
   "outputs": [
    {
     "name": "stdout",
     "output_type": "stream",
     "text": [
      "[[ 1  4 10 16 24 20]\n",
      " [16 17 21  7 15 17]\n",
      " [14 19 11 28 26 14]\n",
      " [22 17  5 12 14 27]\n",
      " [12 28 29  2 26  2]]\n",
      "Sorted by columns\n",
      "[[ 1  4  5  2 14  2]\n",
      " [12 17 10  7 15 14]\n",
      " [14 17 11 12 24 17]\n",
      " [16 19 21 16 26 20]\n",
      " [22 28 29 28 26 27]]\n",
      "Sorted by rows\n",
      "[[ 1  2  2  4  5 14]\n",
      " [ 7 10 12 14 15 17]\n",
      " [11 12 14 17 17 24]\n",
      " [16 16 19 20 21 26]\n",
      " [22 26 27 28 28 29]]\n"
     ]
    }
   ],
   "source": [
    "#52\n",
    "a = n.random.randint(1,31, 30).reshape(5,6)\n",
    "print(a, end=\"\\n\")\n",
    "#sorting by columns\n",
    "print('Sorted by columns')\n",
    "a.sort(axis=0)\n",
    "print(a)\n",
    "#sorting by rows\n",
    "print('Sorted by rows')\n",
    "a.sort(axis=1)\n",
    "print(a)\n"
   ]
  },
  {
   "cell_type": "code",
   "execution_count": 130,
   "id": "e059ee1c",
   "metadata": {},
   "outputs": [
    {
     "data": {
      "text/plain": [
       "array([ 0,  1,  2,  3,  4,  5,  6,  8,  9, 10, 11, 12, 13, 14])"
      ]
     },
     "execution_count": 130,
     "metadata": {},
     "output_type": "execute_result"
    }
   ],
   "source": [
    "#53\n",
    "sn = 7\n",
    "a = n.arange(15)\n",
    "a[a!=sn]"
   ]
  },
  {
   "cell_type": "code",
   "execution_count": 136,
   "id": "0a9e69e9",
   "metadata": {},
   "outputs": [
    {
     "data": {
      "text/plain": [
       "array([6, 6, 6, 6, 6, 6, 6, 6, 6, 6, 6, 6, 6, 6, 6])"
      ]
     },
     "execution_count": 136,
     "metadata": {},
     "output_type": "execute_result"
    }
   ],
   "source": [
    "#54\n",
    "sn = 7\n",
    "rn = 6\n",
    "a = n.arange(15)\n",
    "b = []\n",
    "for i in a:\n",
    "    if i > sn:\n",
    "        i = rn\n",
    "        b.append(i)\n",
    "    else:\n",
    "        i = rn\n",
    "        b.append(i)\n",
    "n.array(b)"
   ]
  },
  {
   "cell_type": "code",
   "execution_count": 135,
   "id": "b61e5a29",
   "metadata": {},
   "outputs": [
    {
     "data": {
      "text/plain": [
       "array([6, 6, 6, 6, 6, 6, 6, 6, 6, 6, 6, 6, 6, 6, 6])"
      ]
     },
     "execution_count": 135,
     "metadata": {},
     "output_type": "execute_result"
    }
   ],
   "source": [
    "#also 54\n",
    "rn = 6\n",
    "a = n.arange(15)\n",
    "a[:] = rn\n",
    "a"
   ]
  },
  {
   "cell_type": "code",
   "execution_count": 141,
   "id": "0f5771f7",
   "metadata": {},
   "outputs": [
    {
     "data": {
      "text/plain": [
       "array([[[ 0,  1,  2,  3],\n",
       "        [ 4,  5,  6,  7],\n",
       "        [ 8,  9, 10, 11],\n",
       "        [12, 13, 14, 15],\n",
       "        [16, 17, 18, 19]],\n",
       "\n",
       "       [[20, 21, 22, 23],\n",
       "        [24, 25, 26, 27],\n",
       "        [28, 29, 30, 31],\n",
       "        [32, 33, 34, 35],\n",
       "        [36, 37, 38, 39]],\n",
       "\n",
       "       [[40, 41, 42, 43],\n",
       "        [44, 45, 46, 47],\n",
       "        [48, 49, 50, 51],\n",
       "        [52, 53, 54, 55],\n",
       "        [56, 57, 58, 59]]])"
      ]
     },
     "execution_count": 141,
     "metadata": {},
     "output_type": "execute_result"
    }
   ],
   "source": [
    "#56\n",
    "a = n.arange(60).reshape(3,5,4)\n",
    "a"
   ]
  },
  {
   "cell_type": "code",
   "execution_count": 148,
   "id": "ea2cadde",
   "metadata": {},
   "outputs": [
    {
     "name": "stdout",
     "output_type": "stream",
     "text": [
      "[[ 0  1  2  3]\n",
      " [ 4  5  6  7]\n",
      " [ 8  9 10 11]\n",
      " [12 13 14 15]]\n"
     ]
    },
    {
     "data": {
      "text/plain": [
       "array([[ 3,  2,  1,  0],\n",
       "       [ 7,  6,  5,  4],\n",
       "       [11, 10,  9,  8],\n",
       "       [15, 14, 13, 12]])"
      ]
     },
     "execution_count": 148,
     "metadata": {},
     "output_type": "execute_result"
    }
   ],
   "source": [
    "#57\n",
    "a = n.arange(16).reshape(4,4)\n",
    "print(a)\n",
    "b = a.copy()\n",
    "b[:,0] = a[:,-1]\n",
    "b[:,-1] = a[:,0]\n",
    "b[:,1] = a[:,2]\n",
    "b[:,2] = a[:,1]\n",
    "b"
   ]
  },
  {
   "cell_type": "code",
   "execution_count": 161,
   "id": "ea9445e3",
   "metadata": {},
   "outputs": [
    {
     "data": {
      "text/plain": [
       "array([[ 0,  4,  8, 12],\n",
       "       [ 1,  5,  9, 13],\n",
       "       [ 2,  6, 10, 14],\n",
       "       [ 3,  7, 11, 15]])"
      ]
     },
     "execution_count": 161,
     "metadata": {},
     "output_type": "execute_result"
    }
   ],
   "source": [
    "#58\n",
    "a = n.arange(16).reshape(4,4)\n",
    "a.transpose((1, 0))"
   ]
  },
  {
   "cell_type": "code",
   "execution_count": 165,
   "id": "8e06a87b",
   "metadata": {},
   "outputs": [
    {
     "name": "stdout",
     "output_type": "stream",
     "text": [
      "[ 7 16 27 40 55 72]\n"
     ]
    }
   ],
   "source": [
    "#59\n",
    "ar = n.arange(1,7)\n",
    "arr_2 = n.arange(7,13)\n",
    "if len(ar) == len(arr_2):\n",
    "    print(ar*arr_2)"
   ]
  }
 ],
 "metadata": {
  "kernelspec": {
   "display_name": "Python 3 (ipykernel)",
   "language": "python",
   "name": "python3"
  },
  "language_info": {
   "codemirror_mode": {
    "name": "ipython",
    "version": 3
   },
   "file_extension": ".py",
   "mimetype": "text/x-python",
   "name": "python",
   "nbconvert_exporter": "python",
   "pygments_lexer": "ipython3",
   "version": "3.9.7"
  }
 },
 "nbformat": 4,
 "nbformat_minor": 5
}
